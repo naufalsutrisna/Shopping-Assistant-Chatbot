{
 "cells": [
  {
   "cell_type": "markdown",
   "metadata": {},
   "source": [
    "# Import Library"
   ]
  },
  {
   "cell_type": "code",
   "execution_count": 4,
   "metadata": {},
   "outputs": [],
   "source": [
    "import numpy as np\n",
    "import pandas as pd\n",
    "import os"
   ]
  },
  {
   "cell_type": "markdown",
   "metadata": {},
   "source": [
    "# Import Data"
   ]
  },
  {
   "cell_type": "code",
   "execution_count": 5,
   "metadata": {},
   "outputs": [
    {
     "data": {
      "text/html": [
       "<div>\n",
       "<style scoped>\n",
       "    .dataframe tbody tr th:only-of-type {\n",
       "        vertical-align: middle;\n",
       "    }\n",
       "\n",
       "    .dataframe tbody tr th {\n",
       "        vertical-align: top;\n",
       "    }\n",
       "\n",
       "    .dataframe thead th {\n",
       "        text-align: right;\n",
       "    }\n",
       "</style>\n",
       "<table border=\"1\" class=\"dataframe\">\n",
       "  <thead>\n",
       "    <tr style=\"text-align: right;\">\n",
       "      <th></th>\n",
       "      <th>Unnamed: 0</th>\n",
       "      <th>name</th>\n",
       "      <th>main_category</th>\n",
       "      <th>sub_category</th>\n",
       "      <th>image</th>\n",
       "      <th>link</th>\n",
       "      <th>ratings</th>\n",
       "      <th>no_of_ratings</th>\n",
       "      <th>discount_price</th>\n",
       "      <th>actual_price</th>\n",
       "    </tr>\n",
       "  </thead>\n",
       "  <tbody>\n",
       "    <tr>\n",
       "      <th>0</th>\n",
       "      <td>0</td>\n",
       "      <td>Lloyd 1.5 Ton 3 Star Inverter Split Ac (5 In 1...</td>\n",
       "      <td>appliances</td>\n",
       "      <td>Air Conditioners</td>\n",
       "      <td>https://m.media-amazon.com/images/I/31UISB90sY...</td>\n",
       "      <td>https://www.amazon.in/Lloyd-Inverter-Convertib...</td>\n",
       "      <td>4.2</td>\n",
       "      <td>2,255</td>\n",
       "      <td>₹32,999</td>\n",
       "      <td>₹58,990</td>\n",
       "    </tr>\n",
       "    <tr>\n",
       "      <th>1</th>\n",
       "      <td>1</td>\n",
       "      <td>LG 1.5 Ton 5 Star AI DUAL Inverter Split AC (C...</td>\n",
       "      <td>appliances</td>\n",
       "      <td>Air Conditioners</td>\n",
       "      <td>https://m.media-amazon.com/images/I/51JFb7FctD...</td>\n",
       "      <td>https://www.amazon.in/LG-Convertible-Anti-Viru...</td>\n",
       "      <td>4.2</td>\n",
       "      <td>2,948</td>\n",
       "      <td>₹46,490</td>\n",
       "      <td>₹75,990</td>\n",
       "    </tr>\n",
       "    <tr>\n",
       "      <th>2</th>\n",
       "      <td>2</td>\n",
       "      <td>LG 1 Ton 4 Star Ai Dual Inverter Split Ac (Cop...</td>\n",
       "      <td>appliances</td>\n",
       "      <td>Air Conditioners</td>\n",
       "      <td>https://m.media-amazon.com/images/I/51JFb7FctD...</td>\n",
       "      <td>https://www.amazon.in/LG-Inverter-Convertible-...</td>\n",
       "      <td>4.2</td>\n",
       "      <td>1,206</td>\n",
       "      <td>₹34,490</td>\n",
       "      <td>₹61,990</td>\n",
       "    </tr>\n",
       "    <tr>\n",
       "      <th>3</th>\n",
       "      <td>3</td>\n",
       "      <td>LG 1.5 Ton 3 Star AI DUAL Inverter Split AC (C...</td>\n",
       "      <td>appliances</td>\n",
       "      <td>Air Conditioners</td>\n",
       "      <td>https://m.media-amazon.com/images/I/51JFb7FctD...</td>\n",
       "      <td>https://www.amazon.in/LG-Convertible-Anti-Viru...</td>\n",
       "      <td>4.0</td>\n",
       "      <td>69</td>\n",
       "      <td>₹37,990</td>\n",
       "      <td>₹68,990</td>\n",
       "    </tr>\n",
       "    <tr>\n",
       "      <th>4</th>\n",
       "      <td>4</td>\n",
       "      <td>Carrier 1.5 Ton 3 Star Inverter Split AC (Copp...</td>\n",
       "      <td>appliances</td>\n",
       "      <td>Air Conditioners</td>\n",
       "      <td>https://m.media-amazon.com/images/I/41lrtqXPiW...</td>\n",
       "      <td>https://www.amazon.in/Carrier-Inverter-Split-C...</td>\n",
       "      <td>4.1</td>\n",
       "      <td>630</td>\n",
       "      <td>₹34,490</td>\n",
       "      <td>₹67,790</td>\n",
       "    </tr>\n",
       "  </tbody>\n",
       "</table>\n",
       "</div>"
      ],
      "text/plain": [
       "   Unnamed: 0                                               name  \\\n",
       "0           0  Lloyd 1.5 Ton 3 Star Inverter Split Ac (5 In 1...   \n",
       "1           1  LG 1.5 Ton 5 Star AI DUAL Inverter Split AC (C...   \n",
       "2           2  LG 1 Ton 4 Star Ai Dual Inverter Split Ac (Cop...   \n",
       "3           3  LG 1.5 Ton 3 Star AI DUAL Inverter Split AC (C...   \n",
       "4           4  Carrier 1.5 Ton 3 Star Inverter Split AC (Copp...   \n",
       "\n",
       "  main_category      sub_category  \\\n",
       "0    appliances  Air Conditioners   \n",
       "1    appliances  Air Conditioners   \n",
       "2    appliances  Air Conditioners   \n",
       "3    appliances  Air Conditioners   \n",
       "4    appliances  Air Conditioners   \n",
       "\n",
       "                                               image  \\\n",
       "0  https://m.media-amazon.com/images/I/31UISB90sY...   \n",
       "1  https://m.media-amazon.com/images/I/51JFb7FctD...   \n",
       "2  https://m.media-amazon.com/images/I/51JFb7FctD...   \n",
       "3  https://m.media-amazon.com/images/I/51JFb7FctD...   \n",
       "4  https://m.media-amazon.com/images/I/41lrtqXPiW...   \n",
       "\n",
       "                                                link ratings no_of_ratings  \\\n",
       "0  https://www.amazon.in/Lloyd-Inverter-Convertib...     4.2         2,255   \n",
       "1  https://www.amazon.in/LG-Convertible-Anti-Viru...     4.2         2,948   \n",
       "2  https://www.amazon.in/LG-Inverter-Convertible-...     4.2         1,206   \n",
       "3  https://www.amazon.in/LG-Convertible-Anti-Viru...     4.0            69   \n",
       "4  https://www.amazon.in/Carrier-Inverter-Split-C...     4.1           630   \n",
       "\n",
       "  discount_price actual_price  \n",
       "0        ₹32,999      ₹58,990  \n",
       "1        ₹46,490      ₹75,990  \n",
       "2        ₹34,490      ₹61,990  \n",
       "3        ₹37,990      ₹68,990  \n",
       "4        ₹34,490      ₹67,790  "
      ]
     },
     "execution_count": 5,
     "metadata": {},
     "output_type": "execute_result"
    }
   ],
   "source": [
    "df = pd.read_csv(os.path.join(os.getcwd(), \"..\", \"data\", \"Amazon-Products.csv\"))\n",
    "df.head()"
   ]
  },
  {
   "cell_type": "code",
   "execution_count": 6,
   "metadata": {},
   "outputs": [
    {
     "data": {
      "text/plain": [
       "(551585, 10)"
      ]
     },
     "execution_count": 6,
     "metadata": {},
     "output_type": "execute_result"
    }
   ],
   "source": [
    "df.shape"
   ]
  },
  {
   "cell_type": "code",
   "execution_count": 7,
   "metadata": {},
   "outputs": [
    {
     "name": "stdout",
     "output_type": "stream",
     "text": [
      "<class 'pandas.core.frame.DataFrame'>\n",
      "RangeIndex: 551585 entries, 0 to 551584\n",
      "Data columns (total 10 columns):\n",
      " #   Column          Non-Null Count   Dtype \n",
      "---  ------          --------------   ----- \n",
      " 0   Unnamed: 0      551585 non-null  int64 \n",
      " 1   name            551585 non-null  object\n",
      " 2   main_category   551585 non-null  object\n",
      " 3   sub_category    551585 non-null  object\n",
      " 4   image           551585 non-null  object\n",
      " 5   link            551585 non-null  object\n",
      " 6   ratings         375791 non-null  object\n",
      " 7   no_of_ratings   375791 non-null  object\n",
      " 8   discount_price  490422 non-null  object\n",
      " 9   actual_price    533772 non-null  object\n",
      "dtypes: int64(1), object(9)\n",
      "memory usage: 42.1+ MB\n"
     ]
    }
   ],
   "source": [
    "df.info()"
   ]
  },
  {
   "cell_type": "markdown",
   "metadata": {},
   "source": [
    "# Preprocessing"
   ]
  },
  {
   "cell_type": "code",
   "execution_count": 8,
   "metadata": {},
   "outputs": [],
   "source": [
    "# Drop unnecessary columns\n",
    "df.drop(columns=['Unnamed: 0', 'image', 'link'], inplace=True)"
   ]
  },
  {
   "cell_type": "code",
   "execution_count": 9,
   "metadata": {},
   "outputs": [
    {
     "name": "stdout",
     "output_type": "stream",
     "text": [
      "Total null value in product table:\n",
      "name                   0\n",
      "main_category          0\n",
      "sub_category           0\n",
      "ratings           175794\n",
      "no_of_ratings     175794\n",
      "discount_price     61163\n",
      "actual_price       17813\n",
      "dtype: int64\n"
     ]
    }
   ],
   "source": [
    "print(f\"Total null value in product table:\\n{df.isnull().sum()}\")"
   ]
  },
  {
   "cell_type": "markdown",
   "metadata": {},
   "source": [
    "## Handle missing values"
   ]
  },
  {
   "cell_type": "code",
   "execution_count": 10,
   "metadata": {},
   "outputs": [],
   "source": [
    "# FIll with 0\n",
    "df['ratings'] = df['ratings'].fillna(0)\n",
    "df['no_of_ratings'] = df['no_of_ratings'].fillna(0)\n",
    "\n",
    "# No Discount\n",
    "df['discount_price'] = df['discount_price'].fillna(df['actual_price'])\n",
    "\n",
    "# Drop because no price\n",
    "df = df.dropna(subset=['actual_price'])"
   ]
  },
  {
   "cell_type": "markdown",
   "metadata": {},
   "source": [
    "## Check unique value"
   ]
  },
  {
   "cell_type": "code",
   "execution_count": 11,
   "metadata": {},
   "outputs": [
    {
     "name": "stdout",
     "output_type": "stream",
     "text": [
      "Column: name\n",
      "Unique Values: ['Lloyd 1.5 Ton 3 Star Inverter Split Ac (5 In 1 Convertible, Copper, Anti-Viral + Pm 2.5 Filter, 2023 Model, White, Gls18I3...'\n",
      " 'LG 1.5 Ton 5 Star AI DUAL Inverter Split AC (Copper, Super Convertible 6-in-1 Cooling, HD Filter with Anti-Virus Protectio...'\n",
      " 'LG 1 Ton 4 Star Ai Dual Inverter Split Ac (Copper, Super Convertible 6-In-1 Cooling, Hd Filter With Anti Virus Protection,...'\n",
      " ... 'Redwolf Noice Toit Smort - Hoodie (Black)'\n",
      " 'Redwolf Schrute Farms B&B - Hoodie (Navy Blue)'\n",
      " 'Mothercare Printed Cotton Elastane Girls Infant Leggings (S21VF342MU-P)']\n",
      "\n",
      "Column: main_category\n",
      "Unique Values: ['appliances' 'car & motorbike' 'tv, audio & cameras' 'sports & fitness'\n",
      " 'grocery & gourmet foods' 'home & kitchen' 'pet supplies' 'stores'\n",
      " 'toys & baby products' \"kids' fashion\" 'bags & luggage' 'accessories'\n",
      " \"women's shoes\" 'beauty & health' \"men's shoes\" \"women's clothing\"\n",
      " 'industrial supplies' \"men's clothing\" 'music' 'home, kitchen, pets']\n",
      "\n",
      "Column: sub_category\n",
      "Unique Values: ['Air Conditioners' 'All Appliances' 'All Car & Motorbike Products'\n",
      " 'All Electronics' 'All Exercise & Fitness' 'All Grocery & Gourmet Foods'\n",
      " 'All Home & Kitchen' 'All Pet Supplies' 'All Sports, Fitness & Outdoors'\n",
      " 'Amazon Fashion' 'Baby Bath, Skin & Grooming' 'Baby Fashion'\n",
      " 'Baby Products' 'Backpacks' 'Badminton' 'Bags & Luggage' 'Ballerinas'\n",
      " 'Beauty & Grooming' 'Bedroom Linen' 'Camera Accessories' 'Cameras'\n",
      " 'Camping & Hiking' 'Car & Bike Care' 'Car Accessories' 'Car Electronics'\n",
      " 'Car Parts' 'Cardio Equipment' 'Casual Shoes' 'Clothing'\n",
      " 'Coffee, Tea & Beverages' 'Cricket' 'Cycling' 'Diapers'\n",
      " 'Diet & Nutrition' 'Dog supplies' 'Ethnic Wear'\n",
      " 'Fashion & Silver Jewellery' 'Fashion Sales & Deals' 'Fashion Sandals'\n",
      " 'Fitness Accessories' 'Football' 'Formal Shoes' 'Furniture'\n",
      " 'Garden & Outdoors' 'Gold & Diamond Jewellery' 'Handbags & Clutches'\n",
      " 'Headphones' 'Health & Personal Care' 'Heating & Cooling Appliances'\n",
      " 'Home Audio & Theater' 'Home Décor' 'Home Entertainment Systems'\n",
      " 'Home Furnishing' 'Home Improvement' 'Home Storage' 'Household Supplies'\n",
      " 'Indoor Lighting' 'Industrial & Scientific Supplies' 'Innerwear'\n",
      " 'International Toy Store' 'Janitorial & Sanitation Supplies' 'Jeans'\n",
      " 'Jewellery' \"Kids' Clothing\" \"Kids' Fashion\" \"Kids' Shoes\"\n",
      " \"Kids' Watches\" 'Kitchen & Dining' 'Kitchen & Home Appliances'\n",
      " 'Kitchen Storage & Containers' 'Lab & Scientific' 'Lingerie & Nightwear'\n",
      " 'Luxury Beauty' 'Make-up' \"Men's Fashion\" 'Motorbike Accessories & Parts'\n",
      " 'Musical Instruments & Professional Audio' 'Nursing & Feeding'\n",
      " 'Personal Care Appliances' 'Refrigerators' 'Refurbished & Open Box'\n",
      " 'Rucksacks' 'Running' 'School Bags' 'Security Cameras'\n",
      " 'Sewing & Craft Supplies' 'Shirts' 'Shoes' 'Snack Foods' 'Speakers'\n",
      " 'Sports Shoes' 'Sportswear' 'STEM Toys Store' 'Strength Training'\n",
      " 'Strollers & Prams' 'Suitcases & Trolley Bags' 'Sunglasses'\n",
      " 'T-shirts & Polos' 'Televisions' 'Test, Measure & Inspect'\n",
      " 'The Designer Boutique' 'Toys & Games' 'Toys Gifting Store'\n",
      " 'Travel Accessories' 'Travel Duffles' 'Value Bazaar' 'Wallets'\n",
      " 'Washing Machines' 'Watches' 'Western Wear' \"Women's Fashion\" 'Yoga']\n",
      "\n",
      "Column: ratings\n",
      "Unique Values: ['4.2' '4.0' '4.1' '4.3' '3.9' '3.8' '3.5' 0 '4.6' '3.3' '3.4' '3.7' '2.9'\n",
      " '5.0' '4.4' '3.6' '2.7' '4.5' '3.0' '3.1' '3.2' '4.8' '4.7' '2.5' '1.0'\n",
      " '2.6' '2.8' '1.7' 'Get' '1.8' '2.4' '4.9' '2.2' '1.6' '1.9' '2.3' '2.0'\n",
      " '1.4' '2.1' 'FREE' '1.2' '1.3' '1.5' '₹68.99' '₹65' '1.1' '₹70' '₹100'\n",
      " '₹99' '₹2.99']\n",
      "\n",
      "Column: no_of_ratings\n",
      "Unique Values: ['2,255' '2,948' '1,206' ... '3,329' '7,141' '4,406']\n",
      "\n",
      "Column: discount_price\n",
      "Unique Values: ['₹32,999' '₹46,490' '₹34,490' ... '₹3,712.10' '₹1,429.60' '₹651.01']\n",
      "\n",
      "Column: actual_price\n",
      "Unique Values: ['₹58,990' '₹75,990' '₹61,990' ... '₹608.97' '₹4,792' '₹8,023.60']\n",
      "\n"
     ]
    }
   ],
   "source": [
    "for column in df.columns:\n",
    "    unique_values = df[column].unique()\n",
    "    print(f\"Column: {column}\")\n",
    "    print(f\"Unique Values: {unique_values}\\n\")"
   ]
  },
  {
   "cell_type": "markdown",
   "metadata": {},
   "source": [
    "## Clean name"
   ]
  },
  {
   "cell_type": "code",
   "execution_count": 12,
   "metadata": {},
   "outputs": [],
   "source": [
    "# Remove Unnecessary Special Characters\n",
    "df['name'] = df['name'].str.replace(r\"[^\\w\\s.-]\", \"\", regex=True)\n",
    "\n",
    "# Standardize Spaces\n",
    "df['name'] = df['name'].str.replace(r\"\\s+\", \" \", regex=True).str.strip()\n",
    "\n",
    "# Lower character\n",
    "df['name'] = df['name'].str.lower()"
   ]
  },
  {
   "cell_type": "markdown",
   "metadata": {},
   "source": [
    "## Clean main_category"
   ]
  },
  {
   "cell_type": "code",
   "execution_count": 13,
   "metadata": {},
   "outputs": [],
   "source": [
    "# Strip spaces and standardize case\n",
    "df['main_category'] = df['main_category'].str.strip().str.lower()\n",
    "\n",
    "# Replace special characters\n",
    "df['main_category'] = df['main_category'].str.replace(r'&', 'and', regex=True)\n",
    "df['main_category'] = df['main_category'].str.replace(r\"[^\\w\\s&-]\", \"\", regex=True)  "
   ]
  },
  {
   "cell_type": "markdown",
   "metadata": {},
   "source": [
    "## Clean sub_category"
   ]
  },
  {
   "cell_type": "code",
   "execution_count": 14,
   "metadata": {},
   "outputs": [],
   "source": [
    "# Strip spaces and standardize case (optional)\n",
    "df['sub_category'] = df['sub_category'].str.strip().str.lower()\n",
    "\n",
    "# Remove special characters\n",
    "df['sub_category'] = df['sub_category'].str.replace(r'&', 'and', regex=True)\n",
    "df['sub_category'] = df['sub_category'].str.replace(r\"[^\\w\\s&-]\", '', regex=True)  \n",
    "\n",
    "# Replace unwanted prefixes\n",
    "df['sub_category'] = df['sub_category'].str.replace(r'^all ', '', regex=True)"
   ]
  },
  {
   "cell_type": "markdown",
   "metadata": {},
   "source": [
    "## Clean ratings"
   ]
  },
  {
   "cell_type": "code",
   "execution_count": 15,
   "metadata": {},
   "outputs": [],
   "source": [
    "# Function to clean ratings\n",
    "def clean_ratings(value):\n",
    "    value = str(value)  # Ensure it's a string\n",
    "    \n",
    "    if any(char in value for char in ['₹', '$', '€', 'FREE', 'Get']):  \n",
    "        return 0  # Set any value with symbols or invalid words to 0\n",
    "    \n",
    "    # Keep only numbers and decimals\n",
    "    cleaned_value = ''.join(c for c in value if c.isdigit() or c == '.')\n",
    "    \n",
    "    return float(cleaned_value) if cleaned_value else 0  # Convert to float, replace empty with 0\n",
    "\n",
    "# Apply cleaning function to the column\n",
    "df['ratings'] = df['ratings'].apply(clean_ratings)"
   ]
  },
  {
   "cell_type": "markdown",
   "metadata": {},
   "source": [
    "## Clean no_of_ratings column"
   ]
  },
  {
   "cell_type": "code",
   "execution_count": 16,
   "metadata": {},
   "outputs": [],
   "source": [
    "df['no_of_ratings'] = df['no_of_ratings'].astype(str).str.replace(r'[^\\d.]', '', regex=True)\n",
    "df['no_of_ratings'] = df['no_of_ratings'].replace('', '0')\n",
    "df['no_of_ratings'] = df['no_of_ratings'].astype(float).fillna(0).astype(int)"
   ]
  },
  {
   "cell_type": "markdown",
   "metadata": {},
   "source": [
    "## Clean discount_price"
   ]
  },
  {
   "cell_type": "code",
   "execution_count": 17,
   "metadata": {},
   "outputs": [],
   "source": [
    "df['discount_price'] = df['discount_price'].astype(str).str.replace(r'[^\\d.]', '', regex=True)\n",
    "df['discount_price'] = df['discount_price'].astype(float)"
   ]
  },
  {
   "cell_type": "markdown",
   "metadata": {},
   "source": [
    "## Clean actual_price"
   ]
  },
  {
   "cell_type": "code",
   "execution_count": 18,
   "metadata": {},
   "outputs": [],
   "source": [
    "df['actual_price'] = df['actual_price'].astype(str).str.replace(r'[^\\d.]', '', regex=True)\n",
    "df['actual_price'] = df['actual_price'].astype(float)"
   ]
  },
  {
   "cell_type": "markdown",
   "metadata": {},
   "source": [
    "# Save cleaned data"
   ]
  },
  {
   "cell_type": "code",
   "execution_count": 19,
   "metadata": {},
   "outputs": [],
   "source": [
    "cleaned_file_path = os.path.join(os.getcwd(), \"..\", \"data\", \"Amazon-Products-Cleaned.csv\")\n",
    "df.to_csv(cleaned_file_path, index=False)"
   ]
  }
 ],
 "metadata": {
  "kernelspec": {
   "display_name": "Python 3",
   "language": "python",
   "name": "python3"
  },
  "language_info": {
   "codemirror_mode": {
    "name": "ipython",
    "version": 3
   },
   "file_extension": ".py",
   "mimetype": "text/x-python",
   "name": "python",
   "nbconvert_exporter": "python",
   "pygments_lexer": "ipython3",
   "version": "3.11.2"
  }
 },
 "nbformat": 4,
 "nbformat_minor": 2
}
